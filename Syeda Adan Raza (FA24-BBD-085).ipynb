{
 "cells": [
  {
   "cell_type": "code",
   "execution_count": null,
   "id": "25d74cfc-3896-4276-a0c5-b9f87b3ae75d",
   "metadata": {},
   "outputs": [
    {
     "name": "stdout",
     "output_type": "stream",
     "text": [
      "Enter Number to Calculate Average\n",
      "Enter 'done' to Exit\n"
     ]
    },
    {
     "name": "stdin",
     "output_type": "stream",
     "text": [
      "Enter:  45\n",
      "Enter:  78\n",
      "Enter:  47\n"
     ]
    }
   ],
   "source": [
    "#q7)User Average\n",
    "q7_is_active = True\n",
    "q7_sum = 0\n",
    "q7_numbers = 0\n",
    "print(\"Enter Number to Calculate Average\\nEnter 'done' to Exit\")\n",
    "while q7_is_active :\n",
    "    q7_input = input(\"Enter: \")\n",
    "    if q7_input.lower() == \"done\" :\n",
    "        q7_is_active = False\n",
    "    else :\n",
    "        q7_sum += int(q7_input)\n",
    "        q7_numbers += 1\n",
    "print(f\"Average: {q7_sum/q7_numbers}\")"
   ]
  },
  {
   "cell_type": "code",
   "execution_count": 9,
   "id": "6af246e6-08ce-4c00-aff4-e0b298bdf126",
   "metadata": {},
   "outputs": [
    {
     "name": "stdin",
     "output_type": "stream",
     "text": [
      "Enter Number:  5\n"
     ]
    },
    {
     "name": "stdout",
     "output_type": "stream",
     "text": [
      "Factorial: 120\n"
     ]
    }
   ],
   "source": [
    "# q6Factorial\n",
    "q6_input = int(input(\"Enter Number: \"))\n",
    "factorial = 1\n",
    "while q6_input > 0 :\n",
    "    factorial *= q6_input\n",
    "    q6_input -= 1\n",
    "print(f\"Factorial: {factorial}\")\n"
   ]
  },
  {
   "cell_type": "code",
   "execution_count": 5,
   "id": "633ccc1e-9e8a-4d64-bec3-2e9b7dbf9e9b",
   "metadata": {},
   "outputs": [
    {
     "name": "stdout",
     "output_type": "stream",
     "text": [
      "Positive to Continue\n",
      "Negative to Exit\n"
     ]
    },
    {
     "name": "stdin",
     "output_type": "stream",
     "text": [
      "Enter Number:  45\n",
      "Enter Number:  78\n",
      "Enter Number:  -98\n"
     ]
    },
    {
     "name": "stdout",
     "output_type": "stream",
     "text": [
      "\n",
      "Sum: 123\n"
     ]
    }
   ],
   "source": [
    "# user input with condition\n",
    "#Q4)User Input\n",
    "q4_is_active = True\n",
    "q4_sum = 0\n",
    "print(\"Positive to Continue\\nNegative to Exit\")\n",
    "while q4_is_active :\n",
    "    q4_user_input = int(input(\"Enter Number: \"))\n",
    "    if q4_user_input >= 0 :\n",
    "        q4_sum += q4_user_input\n",
    "    elif q4_user_input < 0 :\n",
    "        q4_is_active = False\n",
    "print(f\"\\nSum: {q4_sum}\")\n"
   ]
  },
  {
   "cell_type": "code",
   "execution_count": null,
   "id": "20b0c0d4-f638-4da8-a0f9-141ab08c9410",
   "metadata": {},
   "outputs": [],
   "source": [
    "#Q8)Fibonnaci\n",
    "fibonnaci = 0\n",
    "number = 0\n",
    "next_number = 1\n",
    "limit = int(input(\"Enter the limit : \"))\n",
    "i = 0\n",
    "while i < limit :\n",
    "    fibonnaci = number + next_number\n",
    "    next_number = number\n",
    "    number = fibonnaci\n",
    "    if(fibonnaci < limit) :\n",
    "        print(fibonnaci)\n",
    "    i = fibonnaci"
   ]
  },
  {
   "cell_type": "code",
   "execution_count": null,
   "id": "a0e64d3c-024e-42b4-83cd-4f865b0fc53c",
   "metadata": {},
   "outputs": [],
   "source": [
    "#q1\n",
    "i = 1\n",
    "even_count = 0\n",
    "while i <= 20:\n",
    "    if i % 2 == 0:\n",
    "        print(i)\n",
    "    even_count += 1\n",
    "    i +=1\n",
    "print(even_count)"
   ]
  },
  {
   "cell_type": "code",
   "execution_count": null,
   "id": "98e7eb31-ec31-4e3d-9abc-aca7b6a2bfc3",
   "metadata": {},
   "outputs": [],
   "source": [
    "# counting with while loop\n",
    "count = 1\n",
    "while count < 11:\n",
    "    print(count)\n",
    "    count += 1\n",
    "print (\"countdown finished!\")"
   ]
  },
  {
   "cell_type": "code",
   "execution_count": null,
   "id": "923ab4a0-c706-43d8-aea5-c648298debeb",
   "metadata": {},
   "outputs": [],
   "source": [
    "#Q3)Sum of Natural Number\n",
    "q3number = 1\n",
    "sum_of_natural = 0\n",
    "while q3number <= 10 :\n",
    "    sum_of_natural += q3number\n",
    "    q3number += 1\n",
    "print(f\"Sum of Natural Number: {sum_of_natural}\")"
   ]
  },
  {
   "cell_type": "code",
   "execution_count": null,
   "id": "9d071d3b-b234-4114-b0fe-a396bc6ca424",
   "metadata": {},
   "outputs": [],
   "source": [
    "#Q5)Guess Game\n",
    "import random\n",
    "\n",
    "guess_number = random.randint(1, 100)\n",
    "q5_is_active = True\n",
    "print(\"Guess Number\")\n",
    "while q5_is_active :\n",
    "    q5_user_input = int(input(\"Enter Number: \"))\n",
    "    if q5_user_input > guess_number :\n",
    "        print(\"High\")\n",
    "    elif q5_user_input < guess_number :\n",
    "        print(\"Low\")\n",
    "    elif q5_user_input == guess_number :\n",
    "        q5_is_active = False\n",
    "print(f\"You Won\\nNumber is {guess_number}\")"
   ]
  },
  {
   "cell_type": "code",
   "execution_count": null,
   "id": "96152b03-58ba-40d7-8960-96c6b0872d5a",
   "metadata": {},
   "outputs": [],
   "source": []
  }
 ],
 "metadata": {
  "kernelspec": {
   "display_name": "Python 3 (ipykernel)",
   "language": "python",
   "name": "python3"
  },
  "language_info": {
   "codemirror_mode": {
    "name": "ipython",
    "version": 3
   },
   "file_extension": ".py",
   "mimetype": "text/x-python",
   "name": "python",
   "nbconvert_exporter": "python",
   "pygments_lexer": "ipython3",
   "version": "3.11.5"
  }
 },
 "nbformat": 4,
 "nbformat_minor": 5
}
